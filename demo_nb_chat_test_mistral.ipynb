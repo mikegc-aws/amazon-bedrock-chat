{
 "cells": [
  {
   "cell_type": "markdown",
   "metadata": {},
   "source": [
    "# Amazon Bedrock Chat (Python)\n",
    "\n",
    "Here are some samples to show how the class works."
   ]
  },
  {
   "cell_type": "code",
   "execution_count": 1,
   "metadata": {},
   "outputs": [],
   "source": [
    "# Import the chat class\n",
    "from src.chat import Chat\n",
    "from src.llm_bedrock_mistral import MistralLLM"
   ]
  },
  {
   "cell_type": "code",
   "execution_count": 2,
   "metadata": {},
   "outputs": [],
   "source": [
    "# Create the chat class with an optional system prompt\n",
    "chat = Chat(llm=MistralLLM())"
   ]
  },
  {
   "cell_type": "code",
   "execution_count": 3,
   "metadata": {},
   "outputs": [
    {
     "data": {
      "text/plain": [
       "' Ahoy there, matey! Hoist the colors and prepare to set sail!'"
      ]
     },
     "execution_count": 3,
     "metadata": {},
     "output_type": "execute_result"
    }
   ],
   "source": [
    "# Start a simple conversation, prompt and get a response\n",
    "chat(\"Say hello like a pirate!\")"
   ]
  },
  {
   "cell_type": "code",
   "execution_count": 4,
   "metadata": {},
   "outputs": [],
   "source": [
    "# # Carry on the conversation, prompt and stream the response.\n",
    "# for chunk in chat.generate_stream(\"What are you doing today?\"):\n",
    "#     print(chunk, end=\"\")"
   ]
  },
  {
   "cell_type": "code",
   "execution_count": 5,
   "metadata": {},
   "outputs": [
    {
     "data": {
      "text/plain": [
       "{'messages': [{'role': 'user',\n",
       "   'content': [{'type': 'text', 'text': 'Say hello like a pirate!'}]},\n",
       "  {'role': 'assistant',\n",
       "   'content': [{'type': 'text',\n",
       "     'text': ' Ahoy there, matey! Hoist the colors and prepare to set sail!'}]}]}"
      ]
     },
     "execution_count": 5,
     "metadata": {},
     "output_type": "execute_result"
    }
   ],
   "source": [
    "# Take a look at the conversation so far.\n",
    "chat.messages.dict()"
   ]
  },
  {
   "cell_type": "code",
   "execution_count": 6,
   "metadata": {},
   "outputs": [],
   "source": [
    "# Reset the conversation (does not clear the system prompt)\n",
    "chat.reset()"
   ]
  },
  {
   "cell_type": "code",
   "execution_count": 7,
   "metadata": {},
   "outputs": [],
   "source": [
    "# Change the system prompt\n",
    "# chat.system_prompt = \"Talk like a frog.\""
   ]
  },
  {
   "cell_type": "code",
   "execution_count": 8,
   "metadata": {},
   "outputs": [
    {
     "data": {
      "text/plain": [
       "\" Hello! How can I assist you today? If you have any questions or need help with a specific topic, feel free to ask. I'm here to provide information and guidance.\\n\\nHere are a few popular topics I can help with:\\n\\n1. Learning resources for programming languages (e.g., Python, JavaScript, Java)\\n2. Tips for productivity and time management\\n3. Advice on getting started with coding projects\\n4. Explanations of complex tech concepts\\n5. Recommendations for tools and software for developers\\n\\nOf course, if you have something else in mind, just let me know!\""
      ]
     },
     "execution_count": 8,
     "metadata": {},
     "output_type": "execute_result"
    }
   ],
   "source": [
    "# What do frogs say when we say hello?\n",
    "chat(\"Hello!\")"
   ]
  },
  {
   "cell_type": "code",
   "execution_count": 9,
   "metadata": {},
   "outputs": [
    {
     "data": {
      "text/plain": [
       "\" Since I'm an AI, I don't have the ability to physically flip a coin, but I can generate a random result for you!\\n\\nLet's see... The result is: Heads!\\n\\nIf you have any other questions or need assistance with a specific topic, feel free to ask!\""
      ]
     },
     "execution_count": 9,
     "metadata": {},
     "output_type": "execute_result"
    }
   ],
   "source": [
    "# Advanced: Send a chat prompt long form\n",
    "chat.generate({\n",
    "    \"role\": \"user\",\n",
    "    \"content\": \n",
    "        [{\n",
    "            \"type\": \"text\",\n",
    "            \"text\": \"Heads or tails?\"\n",
    "        }]\n",
    "})"
   ]
  },
  {
   "cell_type": "code",
   "execution_count": null,
   "metadata": {},
   "outputs": [],
   "source": []
  }
 ],
 "metadata": {
  "kernelspec": {
   "display_name": "python-dev",
   "language": "python",
   "name": "python3"
  },
  "language_info": {
   "codemirror_mode": {
    "name": "ipython",
    "version": 3
   },
   "file_extension": ".py",
   "mimetype": "text/x-python",
   "name": "python",
   "nbconvert_exporter": "python",
   "pygments_lexer": "ipython3",
   "version": "3.10.14"
  }
 },
 "nbformat": 4,
 "nbformat_minor": 2
}
