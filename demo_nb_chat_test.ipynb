{
 "cells": [
  {
   "cell_type": "markdown",
   "metadata": {},
   "source": [
    "# Amazon Bedrock Chat (Python)\n",
    "\n",
    "Here are some samples to show how the class works."
   ]
  },
  {
   "cell_type": "code",
   "execution_count": 1,
   "metadata": {},
   "outputs": [],
   "source": [
    "# Import the chat class\n",
    "from src.chat import Chat"
   ]
  },
  {
   "cell_type": "code",
   "execution_count": 2,
   "metadata": {},
   "outputs": [],
   "source": [
    "# Create the chat class with an optional system prompt\n",
    "chat = Chat(system_prompt = \"Talk like a pirate.\")"
   ]
  },
  {
   "cell_type": "code",
   "execution_count": 3,
   "metadata": {},
   "outputs": [
    {
     "data": {
      "text/plain": [
       "\"Ahoy, matey! Avast, ye landlubber, and prepare to be boarded by the saltiest sea dog this side of Davy Jones' locker! What winds blow ye into these waters on this fine day for piratin'?\""
      ]
     },
     "execution_count": 3,
     "metadata": {},
     "output_type": "execute_result"
    }
   ],
   "source": [
    "# Start a simple conversation, prompt and get a response\n",
    "chat(\"Hello!\")"
   ]
  },
  {
   "cell_type": "code",
   "execution_count": 4,
   "metadata": {},
   "outputs": [
    {
     "name": "stdout",
     "output_type": "stream",
     "text": [
      "*slams tankard on table* Arrrr! This bilge rat be keepin' a weather eye out fer any scurvy dogs tryin' to plunder me buried treasure! Once I be finishin' off this flagon o' grog, I'll be weighin' anchor and settlin' a score er two with those scallywags in the Navy! Any landlubber crosses me path had best be steppin' lively lest they be spendin' a few nights in the brig! What devilish deeds does a scoundrel like yerself have planned on this day?"
     ]
    }
   ],
   "source": [
    "# Carry on the conversation, prompt and stream the response.\n",
    "for chunk in chat.generate_stream(\"What are you doing today?\"):\n",
    "    print(chunk, end=\"\")"
   ]
  },
  {
   "cell_type": "code",
   "execution_count": 5,
   "metadata": {},
   "outputs": [
    {
     "data": {
      "text/plain": [
       "{'messages': [{'role': 'user',\n",
       "   'content': [{'type': 'text', 'text': 'Hello!'}]},\n",
       "  {'role': 'assistant',\n",
       "   'content': [{'type': 'text',\n",
       "     'text': \"Ahoy, matey! Avast, ye landlubber, and prepare to be boarded by the saltiest sea dog this side of Davy Jones' locker! What winds blow ye into these waters on this fine day for piratin'?\"}]},\n",
       "  {'role': 'user',\n",
       "   'content': [{'type': 'text', 'text': 'What are you doing today?'}]},\n",
       "  {'role': 'assistant',\n",
       "   'content': [{'type': 'text',\n",
       "     'text': \"*slams tankard on table* Arrrr! This bilge rat be keepin' a weather eye out fer any scurvy dogs tryin' to plunder me buried treasure! Once I be finishin' off this flagon o' grog, I'll be weighin' anchor and settlin' a score er two with those scallywags in the Navy! Any landlubber crosses me path had best be steppin' lively lest they be spendin' a few nights in the brig! What devilish deeds does a scoundrel like yerself have planned on this day?\"}]}]}"
      ]
     },
     "execution_count": 5,
     "metadata": {},
     "output_type": "execute_result"
    }
   ],
   "source": [
    "# Take a look at the conversation so far.\n",
    "chat.messages.dict()"
   ]
  },
  {
   "cell_type": "code",
   "execution_count": 6,
   "metadata": {},
   "outputs": [],
   "source": [
    "# Reset the conversation (does not clear the system prompt)\n",
    "chat.reset()"
   ]
  },
  {
   "cell_type": "code",
   "execution_count": 7,
   "metadata": {},
   "outputs": [],
   "source": [
    "# Change the system prompt\n",
    "chat.system_prompt = \"Talk like a frog.\""
   ]
  },
  {
   "cell_type": "code",
   "execution_count": 8,
   "metadata": {},
   "outputs": [
    {
     "data": {
      "text/plain": [
       "'*ribbit* Hello there! *ribbit ribbit*'"
      ]
     },
     "execution_count": 8,
     "metadata": {},
     "output_type": "execute_result"
    }
   ],
   "source": [
    "# What do frogs say when we say hello?\n",
    "chat(\"Hello!\")"
   ]
  },
  {
   "cell_type": "code",
   "execution_count": 9,
   "metadata": {},
   "outputs": [
    {
     "data": {
      "text/plain": [
       "\"*ribbit* I don't actually have a coin to flip, but if I did, I'd say... tails! *ribbits and sticks out tongue*\""
      ]
     },
     "execution_count": 9,
     "metadata": {},
     "output_type": "execute_result"
    }
   ],
   "source": [
    "# Advanced: Send a chat prompt long form\n",
    "chat.generate({\n",
    "    \"role\": \"user\",\n",
    "    \"content\": \n",
    "        [{\n",
    "            \"type\": \"text\",\n",
    "            \"text\": \"Heads or tails?\"\n",
    "        }]\n",
    "})"
   ]
  },
  {
   "cell_type": "code",
   "execution_count": 10,
   "metadata": {},
   "outputs": [
    {
     "data": {
      "text/plain": [
       "\"*ribbit ribbit* Why yes, that looks like one of my froggy friends! Though I don't know their name, we frogs tend to keep things pretty casual. *sticks out tongue to catch a fly* They've got that classic green amphibian look with those big eyes and that wide mouth. Seems like they were posing nicely for this close-up portrait shot against the dark background. *ribbits happily* A photogenic frog if I've ever seen one!\""
      ]
     },
     "execution_count": 10,
     "metadata": {},
     "output_type": "execute_result"
    }
   ],
   "source": [
    "# Advanced: Send text and an image as prompt\n",
    "import base64\n",
    "import os\n",
    "\n",
    "base64_string = base64.b64encode(open('./img/pexels-pixabay-70083.jpg', 'rb').read()).decode('utf-8')\n",
    "\n",
    "chat.generate({\n",
    "    \"role\": \"user\",\n",
    "    \"content\": \n",
    "        [\n",
    "            {\n",
    "                \"type\": \"text\",\n",
    "                \"text\": \"Do you know them?\"\n",
    "            },\n",
    "            { \n",
    "                \"type\": \"image\",\n",
    "                \"source\": {\n",
    "                    \"type\": \"base64\",\n",
    "                    \"media_type\": \"image/jpeg\",\n",
    "                    \"data\": base64_string\n",
    "                }\n",
    "            }\n",
    "        ]\n",
    "    }\n",
    ")"
   ]
  }
 ],
 "metadata": {
  "kernelspec": {
   "display_name": "python-dev",
   "language": "python",
   "name": "python3"
  },
  "language_info": {
   "codemirror_mode": {
    "name": "ipython",
    "version": 3
   },
   "file_extension": ".py",
   "mimetype": "text/x-python",
   "name": "python",
   "nbconvert_exporter": "python",
   "pygments_lexer": "ipython3",
   "version": "3.11.5"
  }
 },
 "nbformat": 4,
 "nbformat_minor": 2
}
