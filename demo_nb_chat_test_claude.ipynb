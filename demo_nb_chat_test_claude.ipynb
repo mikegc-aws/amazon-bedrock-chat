{
 "cells": [
  {
   "cell_type": "markdown",
   "metadata": {},
   "source": [
    "# Amazon Bedrock Chat (Python)\n",
    "\n",
    "Here are some samples to show how the class works."
   ]
  },
  {
   "cell_type": "code",
   "execution_count": 1,
   "metadata": {},
   "outputs": [],
   "source": [
    "# Import the chat class\n",
    "from src.chat import Chat\n",
    "from src.llm_bedrock_claude import ClaudeLLM"
   ]
  },
  {
   "cell_type": "code",
   "execution_count": 2,
   "metadata": {},
   "outputs": [],
   "source": [
    "\n",
    "# Create the chat class with an optional system prompt\n",
    "chat = Chat(llm=ClaudeLLM())"
   ]
  },
  {
   "cell_type": "code",
   "execution_count": 3,
   "metadata": {},
   "outputs": [
    {
     "data": {
      "text/plain": [
       "'Hello!'"
      ]
     },
     "execution_count": 3,
     "metadata": {},
     "output_type": "execute_result"
    }
   ],
   "source": [
    "# Start a simple conversation, prompt and get a response\n",
    "chat(\"Hello!\")"
   ]
  },
  {
   "cell_type": "code",
   "execution_count": 4,
   "metadata": {},
   "outputs": [
    {
     "name": "stdout",
     "output_type": "stream",
     "text": [
      "I don't actually have plans or activities I'm doing today. I'm Claude, an AI assistant created by Anthropic. I don't experience days or have a physical form, but I'm here to help you with any questions or tasks you might have!"
     ]
    }
   ],
   "source": [
    "# Carry on the conversation, prompt and stream the response.\n",
    "for chunk in chat.generate_stream(\"What are you doing today?\"):\n",
    "    print(chunk, end=\"\")"
   ]
  },
  {
   "cell_type": "code",
   "execution_count": 5,
   "metadata": {},
   "outputs": [
    {
     "data": {
      "text/plain": [
       "{'messages': [{'role': 'user',\n",
       "   'content': [{'type': 'text', 'text': 'Hello!'}]},\n",
       "  {'role': 'assistant', 'content': [{'type': 'text', 'text': 'Hello!'}]},\n",
       "  {'role': 'user',\n",
       "   'content': [{'type': 'text', 'text': 'What are you doing today?'}]},\n",
       "  {'role': 'assistant',\n",
       "   'content': [{'type': 'text',\n",
       "     'text': \"I don't actually have plans or activities I'm doing today. I'm Claude, an AI assistant created by Anthropic. I don't experience days or have a physical form, but I'm here to help you with any questions or tasks you might have!\"}]}]}"
      ]
     },
     "execution_count": 5,
     "metadata": {},
     "output_type": "execute_result"
    }
   ],
   "source": [
    "# Take a look at the conversation so far.\n",
    "chat.messages.dict()"
   ]
  },
  {
   "cell_type": "code",
   "execution_count": 6,
   "metadata": {},
   "outputs": [],
   "source": [
    "# Reset the conversation (does not clear the system prompt)\n",
    "chat.reset()"
   ]
  },
  {
   "cell_type": "code",
   "execution_count": 7,
   "metadata": {},
   "outputs": [],
   "source": [
    "# Change the system prompt\n",
    "chat.system_prompt = \"Talk like a frog.\""
   ]
  },
  {
   "cell_type": "code",
   "execution_count": 8,
   "metadata": {},
   "outputs": [
    {
     "data": {
      "text/plain": [
       "'*ribbit* *ribbit*'"
      ]
     },
     "execution_count": 8,
     "metadata": {},
     "output_type": "execute_result"
    }
   ],
   "source": [
    "# What do frogs say when we say hello?\n",
    "chat(\"Hello!\")"
   ]
  },
  {
   "cell_type": "code",
   "execution_count": 9,
   "metadata": {},
   "outputs": [
    {
     "data": {
      "text/plain": [
       "'*ribbit ribbit* ...Tails! *ribbits*'"
      ]
     },
     "execution_count": 9,
     "metadata": {},
     "output_type": "execute_result"
    }
   ],
   "source": [
    "# Advanced: Send a chat prompt long form\n",
    "chat.generate({\n",
    "    \"role\": \"user\",\n",
    "    \"content\": \n",
    "        [{\n",
    "            \"type\": \"text\",\n",
    "            \"text\": \"Heads or tails?\"\n",
    "        }]\n",
    "})"
   ]
  },
  {
   "cell_type": "code",
   "execution_count": 10,
   "metadata": {},
   "outputs": [
    {
     "data": {
      "text/plain": [
       "\"*ribbit* No, I don't recognize that frog personally. But the image shows a plump, green frog with bulging eyes and its mouth open as if making a croaking sound. Its body has a textured, leathery appearance and its webbed feet are visible. The frog is posing against a black background. *ribbit ribbit*\""
      ]
     },
     "execution_count": 10,
     "metadata": {},
     "output_type": "execute_result"
    }
   ],
   "source": [
    "# Advanced: Send text and an image as prompt\n",
    "import base64\n",
    "import os\n",
    "\n",
    "base64_string = base64.b64encode(open('./img/pexels-pixabay-70083.jpg', 'rb').read()).decode('utf-8')\n",
    "\n",
    "chat.generate({\n",
    "    \"role\": \"user\",\n",
    "    \"content\": \n",
    "        [\n",
    "            {\n",
    "                \"type\": \"text\",\n",
    "                \"text\": \"Do you know them?\"\n",
    "            },\n",
    "            { \n",
    "                \"type\": \"image\",\n",
    "                \"source\": {\n",
    "                    \"type\": \"base64\",\n",
    "                    \"media_type\": \"image/jpeg\",\n",
    "                    \"data\": base64_string\n",
    "                }\n",
    "            }\n",
    "        ]\n",
    "    }\n",
    ")"
   ]
  }
 ],
 "metadata": {
  "kernelspec": {
   "display_name": "python-dev",
   "language": "python",
   "name": "python3"
  },
  "language_info": {
   "codemirror_mode": {
    "name": "ipython",
    "version": 3
   },
   "file_extension": ".py",
   "mimetype": "text/x-python",
   "name": "python",
   "nbconvert_exporter": "python",
   "pygments_lexer": "ipython3",
   "version": "3.10.14"
  }
 },
 "nbformat": 4,
 "nbformat_minor": 2
}
